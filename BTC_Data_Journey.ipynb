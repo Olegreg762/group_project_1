{
 "cells": [
  {
   "cell_type": "markdown",
   "metadata": {},
   "source": [
    "# BTC analysis and Price Correlation<br>\n",
    "\n"
   ]
  },
  {
   "cell_type": "markdown",
   "metadata": {},
   "source": [
    "Our journey began with deciding on trying to find any correlation to stocks or commodities and<br> Bitcoin. Bitcoin being one of the few assets that have limited supply. It was an interesting idea<br> to try and discover what and if any correlation existed.<br>\n",
    "We also wanted to get Google search trends to see if any correlation with price could be found in that data. \n",
    "\n",
    "----"
   ]
  },
  {
   "cell_type": "markdown",
   "metadata": {},
   "source": [
    "\n",
    "## Stocks and Commodities "
   ]
  },
  {
   "cell_type": "markdown",
   "metadata": {},
   "source": [
    "We settled on the stocks iShares US Technology ETF (IYW) and the S&P 500 ETF (SPY).<br>\n",
    "The commodities we chose were Gold and West Texas Intermediate (WTI Oil)\n",
    "\n",
    "-----"
   ]
  },
  {
   "cell_type": "markdown",
   "metadata": {},
   "source": [
    "## Methodology "
   ]
  },
  {
   "cell_type": "markdown",
   "metadata": {},
   "source": [
    "We gathered CSV files with the relevant data for each item. Using Google Sheet and \"Yhfinance\" add-on.<br>\n",
    "\n",
    "![alt text](./Images/)\n",
    "\n",
    "After getting the data together we started off using pandas and python to read the csv files into a Juypter Notebook as dataframes.<br>\n",
    "While reading them into data frames we took the opportunity to rename the close columns to the respective name of the item and concatenating them into a single data frame.<br>\n",
    "\n",
    "After the concatenation we used the Pandas method \"pct_change\" to calculate the daily changes and used hvplot to plot the data.<br>\n",
    "\n",
    "![alt text](./Images/)\n",
    "\n",
    "The “pct_change” chart was hard to read any data out of so we calculated the returns using the “cumprod” method from Pandas.<br>\n",
    "\n",
    "![alt text](./Images/)\n",
    "\n",
    "The time scale we where looking at didn’t reveal any use able data.<br>\n",
    "\n",
    "![alt text](./Images/)\n",
    "\n",
    "When looking at shorter timeframes we discovered a correlation between IYW and SPY that began around the beginning of the year 2022.<br>\n",
    "\n",
    "![alt text](./Images/)\n",
    "\n",
    "Using date ranges we where able to narrow down the size of the data and establish a time in which Bitcoin did correlate by a noticeable amount with IYW and SPY.<br>\n",
    "\n",
    "![alt text](./Images/)\n",
    "\n",
    "Using the Pytrends API to chart the Google search trend in searches for \"Bitcoin\".<br>\n",
    "\n",
    "![alt text](./Images/)\n",
    "\n",
    "We then charted the Bitcoin search trends to Bitcoin price history to see if there is any correlation.<br>\n",
    "\n",
    "![alt text](./Images/)\n",
    "\n",
    "----"
   ]
  },
  {
   "cell_type": "markdown",
   "metadata": {},
   "source": [
    "# Conclusion\n"
   ]
  },
  {
   "cell_type": "markdown",
   "metadata": {},
   "source": [
    "The price correlation with Bitcoin and stock prices of IYW and SPY is a fairly recent development.<br>\n",
    "There was some correlation with oil prices earlier in Bitcoins history but it faded in favor of correlating to stocks with a slight preference towards tech stocks.<br>\n",
    "This could be explained by the ***[$17 billion VC investments](https://www.bloomberg.com/news/articles/2021-06-18/venture-capital-makes-a-record-17-billion-bet-on-crypto-world?sref=3REHEaVI&leadSource=uverify%20wall)*** and notable increase in ***[Institutional Investment](https://www.forbes.com/sites/lawrencewintermeyer/2021/08/12/institutional-money-is-pouring-into-the-crypto-market-and-its-only-going-to-grow/?sh=5bb8c4714598)***.<br>\n",
    "\n",
    "With the Pytrends API we are able to see a correlation with price movement around searches for Bitcoin.<br>\n",
    "The price movements and search trend can mostly be traced to an event that happened that greatly effected the global markets. Examples of these such events are the Terra Luna crash and the collapse of the Celsius lending platform."
   ]
  }
 ],
 "metadata": {
  "kernelspec": {
   "display_name": "Python 3.9.12 ('base')",
   "language": "python",
   "name": "python3"
  },
  "language_info": {
   "name": "python",
   "version": "3.9.12"
  },
  "orig_nbformat": 4,
  "vscode": {
   "interpreter": {
    "hash": "bf021cadcefd6e7884c0e38ba014f6f38cb10cb7b4b2b37018dddcb4d08c875e"
   }
  }
 },
 "nbformat": 4,
 "nbformat_minor": 2
}
