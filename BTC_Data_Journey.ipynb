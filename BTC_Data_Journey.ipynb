{
 "cells": [
  {
   "cell_type": "markdown",
   "metadata": {},
   "source": [
    "# BTC analysis and Price Correlation<br>\n",
    "\n"
   ]
  },
  {
   "cell_type": "markdown",
   "metadata": {},
   "source": [
    "Our journey began with deciding on trying to find any correlation to stocks or commodities and<br> Bitcoin. Bitcoin being one of the few assets that have limited supply. It was an interesting idea<br> to try and discover what and if any correlation existed.<br>\n",
    "We also wanted to get Google search trends to see if any correlation with price could be found in that data. \n",
    "\n",
    "----"
   ]
  },
  {
   "cell_type": "markdown",
   "metadata": {},
   "source": [
    "\n",
    "## Stocks and Commodities "
   ]
  },
  {
   "cell_type": "markdown",
   "metadata": {},
   "source": [
    "We settled on the stocks iShares US Technology ETF (IYW) and the S&P 500 ETF (SPY).<br>\n",
    "The commodities we chose were Gold and West Texas Intermediate (WTI Oil)\n",
    "\n",
    "-----"
   ]
  },
  {
   "cell_type": "markdown",
   "metadata": {},
   "source": [
    "## Methodology "
   ]
  },
  {
   "cell_type": "markdown",
   "metadata": {},
   "source": [
    "We gathered CSV files with the relevant data for each item. Using Google Sheet and \"Yhfinance\" add-on.<br> \n",
    "!plot_image\n",
    " <br> \n",
    "After getting the data together we started off using pandas and python to read the csv files into a Juypter Notebook as dataframes.<br> \n",
    "!plot_image\n",
    " <br>\n",
    "While reading them into data frames we took the opportunity to rename the close columns to the respective name of the item and concatenating them into a single data frame.br<br>\n",
    " !plot_image \n",
    " <br> \n",
    "After the concatenation we used the Pandas method \"pct_change\" to calculate the daily changes and used hvplot to plot the data.<br> \n",
    "!plot_image\n",
    " <br> \n",
    "The “pct_change” chart was hard to read any data out of so we calculated the returns using the “cumprod” method from Pandas.<br>\n",
    " !plot_image \n",
    " <br> \n",
    "The time scale we where looking at didn’t reveal any use able data.<br> \n",
    "!plot_image\n",
    " <br>\n",
    " When looking at shorter timeframes we discovered a correlation between IYW and SPY that began around the beginning of the year 2022.<br>\n",
    " !plot_image\n",
    " <br>\n",
    "Using date ranges we where able to narrow down the size of the data and establish a time in which Bitcoin did correlate by a noticeable amount with IYW and SPY<br>\n",
    " !plot_image <br>\n",
    "\n",
    "----"
   ]
  },
  {
   "cell_type": "markdown",
   "metadata": {},
   "source": [
    "# Conclusion\n"
   ]
  }
 ],
 "metadata": {
  "kernelspec": {
   "display_name": "Python 3.9.12 ('base')",
   "language": "python",
   "name": "python3"
  },
  "language_info": {
   "name": "python",
   "version": "3.9.12"
  },
  "orig_nbformat": 4,
  "vscode": {
   "interpreter": {
    "hash": "bf021cadcefd6e7884c0e38ba014f6f38cb10cb7b4b2b37018dddcb4d08c875e"
   }
  }
 },
 "nbformat": 4,
 "nbformat_minor": 2
}
