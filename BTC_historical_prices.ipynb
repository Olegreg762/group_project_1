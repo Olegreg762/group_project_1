{
 "cells": [
  {
   "cell_type": "code",
   "execution_count": 10,
   "id": "1100bce1-15fc-4fcc-97cd-97c4c4b82b05",
   "metadata": {},
   "outputs": [],
   "source": [
    "# Initial imports\n",
    "import os\n",
    "import requests\n",
    "import pandas as pd\n",
    "from dotenv import load_dotenv\n",
    "import alpaca_trade_api as tradeapi\n",
    "import json"
   ]
  },
  {
   "cell_type": "code",
   "execution_count": 11,
   "id": "48e2aa6c-02d6-42b6-8323-191cb8bfe1cf",
   "metadata": {},
   "outputs": [],
   "source": [
    "# Crypto API URLs\n",
    "btc_url = \"https://api.alternative.me/v2/ticker/Bitcoin/?convert=USD\""
   ]
  },
  {
   "cell_type": "code",
   "execution_count": 13,
   "id": "43347c4d-5656-4855-a8c5-e0536ec2a03a",
   "metadata": {},
   "outputs": [],
   "source": [
    "# Set start and end dates of five years back from today.\n",
    "# Sample results may vary from the solution based on the time frame chosen\n",
    "start_date = pd.Timestamp('2012-11-01', tz='America/New_York').isoformat()\n",
    "end_date = pd.Timestamp('2022-11-01', tz='America/New_York').isoformat()"
   ]
  },
  {
   "cell_type": "code",
   "execution_count": 14,
   "id": "351b3cfe-edf5-4be3-88f5-2a2a1a63dad7",
   "metadata": {},
   "outputs": [
    {
     "data": {
      "text/plain": [
       "16232.97"
      ]
     },
     "metadata": {},
     "output_type": "display_data"
    }
   ],
   "source": [
    "# Fetch current BTC price\n",
    "btc_price_data = requests.get(btc_url).json()\n",
    "\n",
    "#print(json.dumps(btc_price_data, indent=4))\n",
    "btc_price = btc_price_data['data']['1']['quotes']['USD']['price']\n",
    "\n",
    "#print(btc_price)\n",
    "display(btc_price)"
   ]
  },
  {
   "cell_type": "code",
   "execution_count": 17,
   "id": "82f412ed-b8a3-4c2f-a2e1-a31e283cbf03",
   "metadata": {},
   "outputs": [],
   "source": [
    "# Set Alpaca API key and secret\n",
    "alpaca_api_key = os.getenv(\"ALPACA_API_KEY\")\n",
    "alpaca_secret_key = os.getenv(\"ALPACA_SECRET_KEY\")\n",
    "\n",
    "\n",
    "# Create the Alpaca API object\n",
    "api = tradeapi.REST(\n",
    "    alpaca_api_key,\n",
    "    alpaca_secret_key,\n",
    "    api_version = \"v2\"\n",
    ")"
   ]
  },
  {
   "cell_type": "code",
   "execution_count": 23,
   "id": "f93c4f3c-d51c-4e4f-8811-1bdba87d31f5",
   "metadata": {},
   "outputs": [],
   "source": [
    "ticker = [\"BTCUSD\"]\n",
    "\n",
    "# Set timeframe to \"1Day\" for Alpaca API\n",
    "timeframe = \"1Day\"\n",
    "\n",
    "btc_data = api.get_bars(\n",
    "    ticker,\n",
    "    timeframe,\n",
    "    start = start_date,\n",
    "    end = end_date\n",
    ").df\n"
   ]
  },
  {
   "cell_type": "code",
   "execution_count": 24,
   "id": "41e45202-4163-4cc6-a969-a9cc5067a0c9",
   "metadata": {},
   "outputs": [
    {
     "data": {
      "text/html": [
       "<div>\n",
       "<style scoped>\n",
       "    .dataframe tbody tr th:only-of-type {\n",
       "        vertical-align: middle;\n",
       "    }\n",
       "\n",
       "    .dataframe tbody tr th {\n",
       "        vertical-align: top;\n",
       "    }\n",
       "\n",
       "    .dataframe thead th {\n",
       "        text-align: right;\n",
       "    }\n",
       "</style>\n",
       "<table border=\"1\" class=\"dataframe\">\n",
       "  <thead>\n",
       "    <tr style=\"text-align: right;\">\n",
       "      <th></th>\n",
       "    </tr>\n",
       "  </thead>\n",
       "  <tbody>\n",
       "  </tbody>\n",
       "</table>\n",
       "</div>"
      ],
      "text/plain": [
       "Empty DataFrame\n",
       "Columns: []\n",
       "Index: []"
      ]
     },
     "execution_count": 24,
     "metadata": {},
     "output_type": "execute_result"
    }
   ],
   "source": [
    "btc_data.tail()"
   ]
  },
  {
   "cell_type": "code",
   "execution_count": null,
   "id": "85502ea5-c147-4584-baca-0b5faeb358db",
   "metadata": {},
   "outputs": [],
   "source": []
  }
 ],
 "metadata": {
  "kernelspec": {
   "display_name": "Python 3 (ipykernel)",
   "language": "python",
   "name": "python3"
  },
  "language_info": {
   "codemirror_mode": {
    "name": "ipython",
    "version": 3
   },
   "file_extension": ".py",
   "mimetype": "text/x-python",
   "name": "python",
   "nbconvert_exporter": "python",
   "pygments_lexer": "ipython3",
   "version": "3.7.13"
  }
 },
 "nbformat": 4,
 "nbformat_minor": 5
}
