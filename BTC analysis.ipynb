{
 "cells": [
  {
   "cell_type": "code",
   "execution_count": 5,
   "metadata": {},
   "outputs": [],
   "source": [
    "# Initial imports\n",
    "import os\n",
    "import requests\n",
    "import pandas as pd\n",
    "from dotenv import load_dotenv\n",
    "import json\n",
    "import alpaca_trade_api as tradeapi\n",
    "import hvplot\n",
    "%matplotlib inline"
   ]
  },
  {
   "cell_type": "code",
   "execution_count": 8,
   "metadata": {},
   "outputs": [],
   "source": [
    "# Set Alpaca API key and secret\n",
    "alpaca_api_key = os.getenv('ALPACA_API_KEY')\n",
    "alpaca_secret_key = os.getenv('ALPACA_SECRET_KEY')\n",
    "# Create the Alpaca API object\n",
    "alpaca = tradeapi.REST(alpaca_api_key, alpaca_secret_key, api_version='v2')"
   ]
  },
  {
   "cell_type": "code",
   "execution_count": null,
   "metadata": {},
   "outputs": [],
   "source": [
    "# Format date to ISO\n",
    "begin_time = pd.Timestamp(\"2012-11-01\", tz=\"America/New_York\").isoformat()\n",
    "end_time = pd.Timestamp(\"2022-11-01\", tz=\"America/New_York\").isoformat()\n",
    "\n",
    "# Define tickers for data\n",
    "tickers= ['SPY, BTCUSD']\n",
    "\n",
    "# Define timeframe for data to be pulled\n",
    "timeframe= '1Month'"
   ]
  }
 ],
 "metadata": {
  "kernelspec": {
   "display_name": "Python 3.7.13 ('alpacaenv')",
   "language": "python",
   "name": "python3"
  },
  "language_info": {
   "codemirror_mode": {
    "name": "ipython",
    "version": 3
   },
   "file_extension": ".py",
   "mimetype": "text/x-python",
   "name": "python",
   "nbconvert_exporter": "python",
   "pygments_lexer": "ipython3",
   "version": "3.7.13"
  },
  "orig_nbformat": 4,
  "vscode": {
   "interpreter": {
    "hash": "bef2baec9febdc8f306c5046f63c623e306b1c2a6ab5738b8e44cddfcae60159"
   }
  }
 },
 "nbformat": 4,
 "nbformat_minor": 2
}
